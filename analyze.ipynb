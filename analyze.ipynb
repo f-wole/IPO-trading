{
 "cells": [
  {
   "cell_type": "code",
   "execution_count": 1,
   "metadata": {},
   "outputs": [],
   "source": [
    "import datetime\n",
    "import time\n",
    "from pandas_datareader import data as pdr\n",
    "import time\n",
    "import json\n",
    "import pickle\n",
    "import pandas as pd\n",
    "import pickle\n",
    "import matplotlib.pyplot as plt\n",
    "import numpy as np"
   ]
  },
  {
   "cell_type": "markdown",
   "metadata": {},
   "source": [
    "## Note:\n",
    "- è giusto che ipos contenga anche la data per essere sicuri. altrimenti potresti prendere giorni precedenti a ipo\n",
    "- bisogna fare webcrawling per ottenere la lista di tutte le ipo di nasdaq e nyse. Facendo cherry picking di ipos \"celebri\" a posteriori rischi di selezionare solo quelli che sono andati bene\n",
    "- sarebbe da fare per vari anni (2021, 2020, 2016 ecc) per valutare varie condizioni di mercato"
   ]
  },
  {
   "cell_type": "code",
   "execution_count": 2,
   "metadata": {},
   "outputs": [
    {
     "name": "stdout",
     "output_type": "stream",
     "text": [
      "375\n"
     ]
    }
   ],
   "source": [
    "paths_in=[\"data/jul2021.pkl\",\n",
    "         \"data/jun2021.pkl\",\n",
    "         \"data/may2021.pkl\",\n",
    "         \"data/apr2021.pkl\",\n",
    "         \"data/mar2021.pkl\"]\n",
    "\n",
    "df=pd.DataFrame({})\n",
    "\n",
    "for path_in in paths_in:\n",
    "    with open(path_in, 'rb') as f:\n",
    "        df1 = pickle.load(f)\n",
    "        df=pd.concat([df,df1])\n",
    "        \n",
    "print(len(df))"
   ]
  },
  {
   "cell_type": "code",
   "execution_count": 3,
   "metadata": {},
   "outputs": [
    {
     "name": "stdout",
     "output_type": "stream",
     "text": [
      "    ticker      volume  max-gain  max-loss\n",
      "0     TNYA   2046073.0      36.8       0.0\n",
      "1     INAB   1514700.0       2.5      -5.0\n",
      "2     IMRX    942022.0      21.7      -8.7\n",
      "3     DOLE   8347916.0       8.8       0.0\n",
      "4    XPAXU   5449680.0       1.0      -0.4\n",
      "..     ...         ...       ...       ...\n",
      "108  DHBCU   8187100.0       1.5      -1.4\n",
      "109  NDACU   9806200.0       5.7      -1.3\n",
      "110  OHPAU   9258800.0       8.3      -1.3\n",
      "111  ARRWU   8613900.0       1.9      -0.8\n",
      "112  ANZUU  20111200.0       1.0      -0.8\n",
      "\n",
      "[375 rows x 4 columns]\n"
     ]
    }
   ],
   "source": [
    "print(df)"
   ]
  },
  {
   "cell_type": "code",
   "execution_count": 24,
   "metadata": {},
   "outputs": [
    {
     "name": "stdout",
     "output_type": "stream",
     "text": [
      "15.211208735131372 16.360939692766618\n"
     ]
    },
    {
     "data": {
      "image/png": "[encoded data removed]",
      "text/plain": [
       "<Figure size 432x288 with 1 Axes>"
      ]
     },
     "metadata": {
      "needs_background": "light"
     },
     "output_type": "display_data"
    }
   ],
   "source": [
    "plt.hist(np.log(df[\"volume\"]))\n",
    "mn=np.mean(np.log(df[\"volume\"]))\n",
    "pt=np.percentile(np.log(df[\"volume\"]),90)\n",
    "print(mn,pt)"
   ]
  },
  {
   "cell_type": "code",
   "execution_count": 25,
   "metadata": {},
   "outputs": [
    {
     "name": "stdout",
     "output_type": "stream",
     "text": [
      "38\n",
      "0.7105263157894737\n"
     ]
    }
   ],
   "source": [
    "threshold_gain=7\n",
    "threshold_vol=pt\n",
    "\n",
    "dg=df[np.log(df[\"volume\"])>=threshold_vol]\n",
    "\n",
    "num=len(dg[dg[\"max-gain\"]>=threshold_gain])\n",
    "den=len(dg)\n",
    "print(den)\n",
    "print(num/den)"
   ]
  },
  {
   "cell_type": "code",
   "execution_count": 26,
   "metadata": {},
   "outputs": [
    {
     "data": {
      "text/plain": [
       "<matplotlib.collections.PathCollection at 0x7f3ccc798860>"
      ]
     },
     "execution_count": 26,
     "metadata": {},
     "output_type": "execute_result"
    },
    {
     "data": {
      "image/png": "[encoded data removed]",
      "text/plain": [
       "<Figure size 432x288 with 1 Axes>"
      ]
     },
     "metadata": {
      "needs_background": "light"
     },
     "output_type": "display_data"
    }
   ],
   "source": [
    "plt.scatter(dg[\"max-loss\"],dg[\"max-gain\"])"
   ]
  },
  {
   "cell_type": "code",
   "execution_count": null,
   "metadata": {},
   "outputs": [],
   "source": []
  }
 ],
 "metadata": {
  "kernelspec": {
   "display_name": "algo",
   "language": "python",
   "name": "algo"
  },
  "language_info": {
   "codemirror_mode": {
    "name": "ipython",
    "version": 3
   },
   "file_extension": ".py",
   "mimetype": "text/x-python",
   "name": "python",
   "nbconvert_exporter": "python",
   "pygments_lexer": "ipython3",
   "version": "3.8.5"
  }
 },
 "nbformat": 4,
 "nbformat_minor": 5
}
